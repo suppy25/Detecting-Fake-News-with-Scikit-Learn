{
 "cells": [
  {
   "cell_type": "code",
   "execution_count": 1,
   "metadata": {},
   "outputs": [],
   "source": [
    "import pandas as pd\n",
    "import numpy as np\n",
    "import itertools\n",
    "from sklearn.feature_extraction.text import CountVectorizer, TfidfVectorizer, HashingVectorizer\n",
    "from sklearn.model_selection import train_test_split\n",
    "from sklearn.linear_model import PassiveAggressiveClassifier, SGDClassifier\n",
    "from sklearn.svm import LinearSVC\n",
    "from sklearn.naive_bayes import MultinomialNB\n",
    "from sklearn import metrics\n",
    "import matplotlib.pyplot as plt"
   ]
  },
  {
   "cell_type": "code",
   "execution_count": 2,
   "metadata": {},
   "outputs": [
    {
     "name": "stdout",
     "output_type": "stream",
     "text": [
      "Populating the interactive namespace from numpy and matplotlib\n"
     ]
    }
   ],
   "source": [
    "%pylab inline"
   ]
  },
  {
   "cell_type": "code",
   "execution_count": 3,
   "metadata": {},
   "outputs": [],
   "source": [
    "df = pd.read_csv('https://raw.githubusercontent.com/docketrun/Detecting-Fake-News-with-Scikit-Learn/master/data/fake_or_real_news.csv')"
   ]
  },
  {
   "cell_type": "code",
   "execution_count": 4,
   "metadata": {},
   "outputs": [],
   "source": [
    "y = df.label"
   ]
  },
  {
   "cell_type": "code",
   "execution_count": 5,
   "metadata": {},
   "outputs": [],
   "source": [
    "df = df.drop('label', axis=1)"
   ]
  },
  {
   "cell_type": "code",
   "execution_count": 6,
   "metadata": {},
   "outputs": [],
   "source": [
    "X_train, X_test, y_train, y_test = train_test_split(df['text'], y, test_size=0.33, random_state=53)"
   ]
  },
  {
   "cell_type": "code",
   "execution_count": 7,
   "metadata": {},
   "outputs": [],
   "source": [
    "count_vectorizer = CountVectorizer(stop_words='english')\n",
    "count_train = count_vectorizer.fit_transform(X_train)\n",
    "count_test = count_vectorizer.transform(X_test)"
   ]
  },
  {
   "cell_type": "code",
   "execution_count": 8,
   "metadata": {},
   "outputs": [],
   "source": [
    "tfidf_vectorizer = TfidfVectorizer(stop_words='english', max_df=0.7)\n",
    "tfidf_train = tfidf_vectorizer.fit_transform(X_train)\n",
    "tfidf_test = tfidf_vectorizer.transform(X_test)"
   ]
  },
  {
   "cell_type": "code",
   "execution_count": 9,
   "metadata": {},
   "outputs": [],
   "source": [
    "mn_count_clf = MultinomialNB(alpha=0.1)"
   ]
  },
  {
   "cell_type": "code",
   "execution_count": 10,
   "metadata": {},
   "outputs": [
    {
     "name": "stdout",
     "output_type": "stream",
     "text": [
      "accuracy:   0.893\n"
     ]
    }
   ],
   "source": [
    "mn_count_clf.fit(count_train, y_train)\n",
    "pred = mn_count_clf.predict(count_test)\n",
    "score = metrics.accuracy_score(y_test, pred)\n",
    "print(\"accuracy:   %0.3f\" % score)"
   ]
  },
  {
   "cell_type": "code",
   "execution_count": 11,
   "metadata": {},
   "outputs": [],
   "source": [
    "mn_tfidf_clf = MultinomialNB(alpha=0.1)"
   ]
  },
  {
   "cell_type": "code",
   "execution_count": 12,
   "metadata": {},
   "outputs": [
    {
     "name": "stdout",
     "output_type": "stream",
     "text": [
      "accuracy:   0.898\n"
     ]
    }
   ],
   "source": [
    "mn_tfidf_clf.fit(tfidf_train, y_train)\n",
    "pred = mn_tfidf_clf.predict(tfidf_test)\n",
    "score = metrics.accuracy_score(y_test, pred)\n",
    "print(\"accuracy:   %0.3f\" % score)"
   ]
  },
  {
   "cell_type": "code",
   "execution_count": 13,
   "metadata": {},
   "outputs": [],
   "source": [
    "pa_tfidf_clf = PassiveAggressiveClassifier(n_iter=50)"
   ]
  },
  {
   "cell_type": "code",
   "execution_count": 14,
   "metadata": {},
   "outputs": [
    {
     "name": "stderr",
     "output_type": "stream",
     "text": [
      "C:\\ProgramData\\Anaconda2\\lib\\site-packages\\sklearn\\linear_model\\stochastic_gradient.py:152: DeprecationWarning: n_iter parameter is deprecated in 0.19 and will be removed in 0.21. Use max_iter and tol instead.\n",
      "  DeprecationWarning)\n",
      "C:\\ProgramData\\Anaconda2\\lib\\site-packages\\sklearn\\linear_model\\stochastic_gradient.py:152: DeprecationWarning: n_iter parameter is deprecated in 0.19 and will be removed in 0.21. Use max_iter and tol instead.\n",
      "  DeprecationWarning)\n"
     ]
    },
    {
     "name": "stdout",
     "output_type": "stream",
     "text": [
      "accuracy:   0.936\n"
     ]
    }
   ],
   "source": [
    "pa_tfidf_clf.fit(tfidf_train, y_train)\n",
    "pred = pa_tfidf_clf.predict(tfidf_test)\n",
    "score = metrics.accuracy_score(y_test, pred)\n",
    "print(\"accuracy:   %0.3f\" % score)"
   ]
  },
  {
   "cell_type": "code",
   "execution_count": 15,
   "metadata": {},
   "outputs": [],
   "source": [
    "svc_tfidf_clf = LinearSVC()"
   ]
  },
  {
   "cell_type": "code",
   "execution_count": 16,
   "metadata": {},
   "outputs": [
    {
     "name": "stdout",
     "output_type": "stream",
     "text": [
      "accuracy:   0.936\n"
     ]
    }
   ],
   "source": [
    "svc_tfidf_clf.fit(tfidf_train, y_train)\n",
    "pred = svc_tfidf_clf.predict(tfidf_test)\n",
    "score = metrics.accuracy_score(y_test, pred)\n",
    "print(\"accuracy:   %0.3f\" % score)"
   ]
  },
  {
   "cell_type": "code",
   "execution_count": 17,
   "metadata": {},
   "outputs": [],
   "source": [
    "sgd_tfidf_clf = SGDClassifier()"
   ]
  },
  {
   "cell_type": "code",
   "execution_count": 19,
   "metadata": {},
   "outputs": [
    {
     "name": "stdout",
     "output_type": "stream",
     "text": [
      "accuracy:   0.936\n"
     ]
    },
    {
     "name": "stderr",
     "output_type": "stream",
     "text": [
      "C:\\ProgramData\\Anaconda2\\lib\\site-packages\\sklearn\\linear_model\\stochastic_gradient.py:166: FutureWarning: max_iter and tol parameters have been added in SGDClassifier in 0.19. If both are left unset, they default to max_iter=5 and tol=None. If tol is not None, max_iter defaults to max_iter=1000. From 0.21, default max_iter will be 1000, and default tol will be 1e-3.\n",
      "  FutureWarning)\n"
     ]
    }
   ],
   "source": [
    "sgd_tfidf_clf.fit(tfidf_train, y_train)\n",
    "pred = sgd_tfidf_clf.predict(tfidf_test)\n",
    "score = metrics.accuracy_score(y_test, pred)\n",
    "print(\"accuracy:   %0.3f\" % score)"
   ]
  },
  {
   "cell_type": "code",
   "execution_count": 21,
   "metadata": {},
   "outputs": [],
   "source": [
    "sgd_tfidf_clf.decision_function?"
   ]
  },
  {
   "cell_type": "code",
   "execution_count": 22,
   "metadata": {},
   "outputs": [],
   "source": [
    "mn_count_clf.predict_proba?"
   ]
  },
  {
   "cell_type": "code",
   "execution_count": 23,
   "metadata": {},
   "outputs": [
    {
     "data": {
      "text/plain": [
       "<matplotlib.legend.Legend at 0xf5be6a0>"
      ]
     },
     "execution_count": 23,
     "metadata": {},
     "output_type": "execute_result"
    },
    {
     "data": {
      "image/png": "[encoded data removed]",
      "text/plain": [
       "<Figure size 432x288 with 1 Axes>"
      ]
     },
     "metadata": {
      "needs_background": "light"
     },
     "output_type": "display_data"
    }
   ],
   "source": [
    "plt.figure(0).clf()\n",
    "\n",
    "for model, name in [ (mn_count_clf, 'multinomial nb count'),\n",
    "                     (mn_tfidf_clf, 'multinomial nb tfidf'),\n",
    "                     (pa_tfidf_clf, 'passive aggressive'),\n",
    "                     (svc_tfidf_clf, 'svc'),\n",
    "                     (sgd_tfidf_clf, 'sgd')]:\n",
    "    if 'count' in name:\n",
    "        pred = model.predict_proba(count_test)[:,1]\n",
    "    elif 'multinomial' in name:\n",
    "        pred = model.predict_proba(tfidf_test)[:,1]\n",
    "    else: \n",
    "        pred = model.decision_function(tfidf_test)\n",
    "    fpr, tpr, thresh = metrics.roc_curve(y_test.values, pred, pos_label='REAL')\n",
    "    plt.plot(fpr,tpr,label=\"{}\".format(name))\n",
    "\n",
    "plt.legend(loc=0)"
   ]
  },
  {
   "cell_type": "code",
   "execution_count": 24,
   "metadata": {},
   "outputs": [
    {
     "data": {
      "text/plain": [
       "{'FAKE': [(-5.048500679941329, u'2016'),\n",
       "  (-4.269699164929923, u'october'),\n",
       "  (-4.158915894847866, u'hillary'),\n",
       "  (-3.2002098980900846, u'share'),\n",
       "  (-2.9768612844928812, u'article'),\n",
       "  (-2.8523343543671005, u'november'),\n",
       "  (-2.564549699881129, u'print'),\n",
       "  (-2.371979740677772, u'oct'),\n",
       "  (-2.3007350853228345, u'advertisement'),\n",
       "  (-2.2723861538232932, u'email')],\n",
       " 'REAL': [(2.2306526671320075, u'conservative'),\n",
       "  (2.2815638458243326, u'candidates'),\n",
       "  (2.2895186971128108, u'islamic'),\n",
       "  (2.377740047905049, u'friday'),\n",
       "  (2.3801194001864774, u'gop'),\n",
       "  (2.5513252810622022, u'marriage'),\n",
       "  (2.582805630993222, u'says'),\n",
       "  (2.6351308322206335, u'cruz'),\n",
       "  (2.6488565846653653, u'tuesday'),\n",
       "  (4.782565888778174, u'said')]}"
      ]
     },
     "execution_count": 24,
     "metadata": {},
     "output_type": "execute_result"
    }
   ],
   "source": [
    "def most_informative_feature_for_binary_classification(vectorizer, classifier, n=100):\n",
    "    \"\"\"\n",
    "    See: https://stackoverflow.com/a/26980472\n",
    "    \n",
    "    Identify most important features if given a vectorizer and binary classifier. Set n to the number\n",
    "    of weighted features you would like to show. (Note: current implementation merely prints and does not \n",
    "    return top classes.)\n",
    "    \n",
    "    Modified by @kjam to support a dict return.\n",
    "    \"\"\"\n",
    "\n",
    "    class_labels = classifier.classes_\n",
    "    feature_names = vectorizer.get_feature_names()\n",
    "    topn_class1 = sorted(zip(classifier.coef_[0], feature_names))[:n]\n",
    "    topn_class2 = sorted(zip(classifier.coef_[0], feature_names))[-n:]\n",
    "\n",
    "    return {class_labels[0]: topn_class1,\n",
    "            class_labels[1]: topn_class2\n",
    "    }\n",
    "\n",
    "\n",
    "most_informative_feature_for_binary_classification(tfidf_vectorizer, pa_tfidf_clf, n=10)"
   ]
  },
  {
   "cell_type": "code",
   "execution_count": 25,
   "metadata": {},
   "outputs": [],
   "source": [
    "classifiers = [(mn_count_clf, count_vectorizer),\n",
    "               (mn_tfidf_clf, tfidf_vectorizer),\n",
    "               (pa_tfidf_clf, tfidf_vectorizer),\n",
    "               (svc_tfidf_clf, tfidf_vectorizer),\n",
    "               (sgd_tfidf_clf, tfidf_vectorizer)]"
   ]
  },
  {
   "cell_type": "code",
   "execution_count": 26,
   "metadata": {},
   "outputs": [],
   "source": [
    "results = {}\n",
    "for clf, vct in classifiers:\n",
    "    results[clf] = most_informative_feature_for_binary_classification(vct, clf, n=10)"
   ]
  },
  {
   "cell_type": "code",
   "execution_count": 27,
   "metadata": {},
   "outputs": [
    {
     "data": {
      "text/plain": [
       "{LinearSVC(C=1.0, class_weight=None, dual=True, fit_intercept=True,\n",
       "      intercept_scaling=1, loss='squared_hinge', max_iter=1000,\n",
       "      multi_class='ovr', penalty='l2', random_state=None, tol=0.0001,\n",
       "      verbose=0): {'FAKE': [(-2.573681382711627, u'2016'),\n",
       "   (-2.533978435847387, u'hillary'),\n",
       "   (-2.2832618967448064, u'october'),\n",
       "   (-1.7249565106480682, u'article'),\n",
       "   (-1.7001447830517018, u'november'),\n",
       "   (-1.6804830060861122, u'share'),\n",
       "   (-1.4613005734374134, u'election'),\n",
       "   (-1.3994871873353043, u'print'),\n",
       "   (-1.3618723027392317, u'war'),\n",
       "   (-1.3083291802268247, u'advertisement')],\n",
       "  'REAL': [(1.3417962233922978, u'friday'),\n",
       "   (1.3487557998271646, u'monday'),\n",
       "   (1.3541837791647748, u'cruz'),\n",
       "   (1.3789183219344108, u'gop'),\n",
       "   (1.3919828409493944, u'candidates'),\n",
       "   (1.4222355856849946, u'conservative'),\n",
       "   (1.4570598687804395, u'islamic'),\n",
       "   (1.5834319591516754, u'says'),\n",
       "   (1.680511232442531, u'tuesday'),\n",
       "   (3.4802127017914564, u'said')]},\n",
       " MultinomialNB(alpha=0.1, class_prior=None, fit_prior=True): {'FAKE': [(-12.641778440826338,\n",
       "    u'0000'),\n",
       "   (-12.641778440826338, u'000035'),\n",
       "   (-12.641778440826338, u'0001'),\n",
       "   (-12.641778440826338, u'0001pt'),\n",
       "   (-12.641778440826338, u'000km'),\n",
       "   (-12.641778440826338, u'0011'),\n",
       "   (-12.641778440826338, u'006s'),\n",
       "   (-12.641778440826338, u'007'),\n",
       "   (-12.641778440826338, u'007s'),\n",
       "   (-12.641778440826338, u'008s')],\n",
       "  'REAL': [(-6.452319082422527, u'cruz'),\n",
       "   (-6.452076515575875, u'state'),\n",
       "   (-6.397696648238072, u'republican'),\n",
       "   (-6.376343060363355, u'campaign'),\n",
       "   (-6.324397735392007, u'president'),\n",
       "   (-6.2546017970213645, u'sanders'),\n",
       "   (-6.144621899738043, u'obama'),\n",
       "   (-5.756817248152807, u'clinton'),\n",
       "   (-5.596085785733112, u'said'),\n",
       "   (-5.357523914504495, u'trump')]},\n",
       " MultinomialNB(alpha=0.1, class_prior=None, fit_prior=True): {'FAKE': [(-16.067750538483136,\n",
       "    u'0000'),\n",
       "   (-16.067750538483136, u'000035'),\n",
       "   (-16.067750538483136, u'0001'),\n",
       "   (-16.067750538483136, u'0001pt'),\n",
       "   (-16.067750538483136, u'000km'),\n",
       "   (-16.067750538483136, u'0011'),\n",
       "   (-16.067750538483136, u'006s'),\n",
       "   (-16.067750538483136, u'007'),\n",
       "   (-16.067750538483136, u'007s'),\n",
       "   (-16.067750538483136, u'008s')],\n",
       "  'REAL': [(-5.675959082863306, u'republican'),\n",
       "   (-5.582298794347825, u'campaign'),\n",
       "   (-5.520542422049422, u'new'),\n",
       "   (-5.463370874939617, u'state'),\n",
       "   (-5.459162531269605, u'obama'),\n",
       "   (-5.429949870021241, u'president'),\n",
       "   (-5.403667459399097, u'people'),\n",
       "   (-4.929358535752954, u'clinton'),\n",
       "   (-4.541306857712, u'trump'),\n",
       "   (-4.424753408851144, u'said')]},\n",
       " PassiveAggressiveClassifier(C=1.0, average=False, class_weight=None,\n",
       "               early_stopping=False, fit_intercept=True, loss='hinge',\n",
       "               max_iter=None, n_iter=50, n_iter_no_change=5, n_jobs=None,\n",
       "               random_state=None, shuffle=True, tol=None,\n",
       "               validation_fraction=0.1, verbose=0, warm_start=False): {'FAKE': [(-5.048500679941329,\n",
       "    u'2016'),\n",
       "   (-4.269699164929923, u'october'),\n",
       "   (-4.158915894847866, u'hillary'),\n",
       "   (-3.2002098980900846, u'share'),\n",
       "   (-2.9768612844928812, u'article'),\n",
       "   (-2.8523343543671005, u'november'),\n",
       "   (-2.564549699881129, u'print'),\n",
       "   (-2.371979740677772, u'oct'),\n",
       "   (-2.3007350853228345, u'advertisement'),\n",
       "   (-2.2723861538232932, u'email')],\n",
       "  'REAL': [(2.2306526671320075, u'conservative'),\n",
       "   (2.2815638458243326, u'candidates'),\n",
       "   (2.2895186971128108, u'islamic'),\n",
       "   (2.377740047905049, u'friday'),\n",
       "   (2.3801194001864774, u'gop'),\n",
       "   (2.5513252810622022, u'marriage'),\n",
       "   (2.582805630993222, u'says'),\n",
       "   (2.6351308322206335, u'cruz'),\n",
       "   (2.6488565846653653, u'tuesday'),\n",
       "   (4.782565888778174, u'said')]},\n",
       " SGDClassifier(alpha=0.0001, average=False, class_weight=None,\n",
       "        early_stopping=False, epsilon=0.1, eta0=0.0, fit_intercept=True,\n",
       "        l1_ratio=0.15, learning_rate='optimal', loss='hinge', max_iter=None,\n",
       "        n_iter=None, n_iter_no_change=5, n_jobs=None, penalty='l2',\n",
       "        power_t=0.5, random_state=None, shuffle=True, tol=None,\n",
       "        validation_fraction=0.1, verbose=0, warm_start=False): {'FAKE': [(-4.035177749445719,\n",
       "    u'hillary'),\n",
       "   (-3.9126520379090617, u'2016'),\n",
       "   (-3.3046775002075126, u'october'),\n",
       "   (-2.6694256174779065, u'article'),\n",
       "   (-2.6080259649749906, u'november'),\n",
       "   (-2.4847945007192345, u'election'),\n",
       "   (-2.333271924842104, u'print'),\n",
       "   (-2.283490927697162, u'share'),\n",
       "   (-2.273178856636389, u'war'),\n",
       "   (-2.070478098384378, u'advertisement')],\n",
       "  'REAL': [(2.0044631644922934, u'jobs'),\n",
       "   (2.0128121481469505, u'presumptive'),\n",
       "   (2.037917162123689, u'friday'),\n",
       "   (2.038448343085293, u'cruz'),\n",
       "   (2.0529637635928415, u'attacks'),\n",
       "   (2.196632238025133, u'conservative'),\n",
       "   (2.259566986683154, u'islamic'),\n",
       "   (2.357123730870249, u'says'),\n",
       "   (2.765937153744513, u'tuesday'),\n",
       "   (4.833758447919154, u'said')]}}"
      ]
     },
     "execution_count": 27,
     "metadata": {},
     "output_type": "execute_result"
    }
   ],
   "source": [
    "results"
   ]
  },
  {
   "cell_type": "code",
   "execution_count": 28,
   "metadata": {},
   "outputs": [],
   "source": [
    "comparable_results = {'REAL': {}, 'FAKE': {}}\n",
    "for clf, data in results.items():\n",
    "    clf_name = clf.__class__.__name__\n",
    "    for label, features in data.items():\n",
    "        for rank, score_tuple in enumerate(features):\n",
    "            if score_tuple[1] in comparable_results[label]:\n",
    "                comparable_results[label][score_tuple[1]].append((rank + 1, clf_name))\n",
    "            else:\n",
    "                comparable_results[label][score_tuple[1]] = [(rank + 1, clf_name)]\n"
   ]
  },
  {
   "cell_type": "code",
   "execution_count": 29,
   "metadata": {},
   "outputs": [
    {
     "data": {
      "text/plain": [
       "{u'0000': [(1, 'MultinomialNB'), (1, 'MultinomialNB')],\n",
       " u'000035': [(2, 'MultinomialNB'), (2, 'MultinomialNB')],\n",
       " u'0001': [(3, 'MultinomialNB'), (3, 'MultinomialNB')],\n",
       " u'0001pt': [(4, 'MultinomialNB'), (4, 'MultinomialNB')],\n",
       " u'000km': [(5, 'MultinomialNB'), (5, 'MultinomialNB')],\n",
       " u'0011': [(6, 'MultinomialNB'), (6, 'MultinomialNB')],\n",
       " u'006s': [(7, 'MultinomialNB'), (7, 'MultinomialNB')],\n",
       " u'007': [(8, 'MultinomialNB'), (8, 'MultinomialNB')],\n",
       " u'007s': [(9, 'MultinomialNB'), (9, 'MultinomialNB')],\n",
       " u'008s': [(10, 'MultinomialNB'), (10, 'MultinomialNB')],\n",
       " u'2016': [(2, 'SGDClassifier'),\n",
       "  (1, 'LinearSVC'),\n",
       "  (1, 'PassiveAggressiveClassifier')],\n",
       " u'advertisement': [(10, 'SGDClassifier'),\n",
       "  (10, 'LinearSVC'),\n",
       "  (9, 'PassiveAggressiveClassifier')],\n",
       " u'article': [(4, 'SGDClassifier'),\n",
       "  (4, 'LinearSVC'),\n",
       "  (5, 'PassiveAggressiveClassifier')],\n",
       " u'election': [(6, 'SGDClassifier'), (7, 'LinearSVC')],\n",
       " u'email': [(10, 'PassiveAggressiveClassifier')],\n",
       " u'hillary': [(1, 'SGDClassifier'),\n",
       "  (2, 'LinearSVC'),\n",
       "  (3, 'PassiveAggressiveClassifier')],\n",
       " u'november': [(5, 'SGDClassifier'),\n",
       "  (5, 'LinearSVC'),\n",
       "  (6, 'PassiveAggressiveClassifier')],\n",
       " u'oct': [(8, 'PassiveAggressiveClassifier')],\n",
       " u'october': [(3, 'SGDClassifier'),\n",
       "  (3, 'LinearSVC'),\n",
       "  (2, 'PassiveAggressiveClassifier')],\n",
       " u'print': [(7, 'SGDClassifier'),\n",
       "  (8, 'LinearSVC'),\n",
       "  (7, 'PassiveAggressiveClassifier')],\n",
       " u'share': [(8, 'SGDClassifier'),\n",
       "  (6, 'LinearSVC'),\n",
       "  (4, 'PassiveAggressiveClassifier')],\n",
       " u'war': [(9, 'SGDClassifier'), (9, 'LinearSVC')]}"
      ]
     },
     "execution_count": 29,
     "metadata": {},
     "output_type": "execute_result"
    }
   ],
   "source": [
    "comparable_results['FAKE']"
   ]
  },
  {
   "cell_type": "code",
   "execution_count": 30,
   "metadata": {},
   "outputs": [],
   "source": [
    "agg_results = {}\n",
    "for label, features in comparable_results.items():\n",
    "    for feature, ranks in features.items():\n",
    "        if feature in agg_results:\n",
    "            print(\"WARNING! DUPLICATE LABEL!!! {}\".format(feature))\n",
    "        agg_results[feature] = {\n",
    "            'label': label,\n",
    "            'agg_rank': np.mean([r[0] for r in ranks]),\n",
    "            'count': len(ranks)\n",
    "        }"
   ]
  },
  {
   "cell_type": "code",
   "execution_count": 31,
   "metadata": {},
   "outputs": [],
   "source": [
    "comparison_df = pd.DataFrame(agg_results).T"
   ]
  },
  {
   "cell_type": "code",
   "execution_count": 32,
   "metadata": {},
   "outputs": [
    {
     "data": {
      "text/html": [
       "<div>\n",
       "<style scoped>\n",
       "    .dataframe tbody tr th:only-of-type {\n",
       "        vertical-align: middle;\n",
       "    }\n",
       "\n",
       "    .dataframe tbody tr th {\n",
       "        vertical-align: top;\n",
       "    }\n",
       "\n",
       "    .dataframe thead th {\n",
       "        text-align: right;\n",
       "    }\n",
       "</style>\n",
       "<table border=\"1\" class=\"dataframe\">\n",
       "  <thead>\n",
       "    <tr style=\"text-align: right;\">\n",
       "      <th></th>\n",
       "      <th>agg_rank</th>\n",
       "      <th>count</th>\n",
       "      <th>label</th>\n",
       "    </tr>\n",
       "  </thead>\n",
       "  <tbody>\n",
       "    <tr>\n",
       "      <th>0000</th>\n",
       "      <td>1</td>\n",
       "      <td>2</td>\n",
       "      <td>FAKE</td>\n",
       "    </tr>\n",
       "    <tr>\n",
       "      <th>000035</th>\n",
       "      <td>2</td>\n",
       "      <td>2</td>\n",
       "      <td>FAKE</td>\n",
       "    </tr>\n",
       "    <tr>\n",
       "      <th>0001</th>\n",
       "      <td>3</td>\n",
       "      <td>2</td>\n",
       "      <td>FAKE</td>\n",
       "    </tr>\n",
       "    <tr>\n",
       "      <th>0001pt</th>\n",
       "      <td>4</td>\n",
       "      <td>2</td>\n",
       "      <td>FAKE</td>\n",
       "    </tr>\n",
       "    <tr>\n",
       "      <th>000km</th>\n",
       "      <td>5</td>\n",
       "      <td>2</td>\n",
       "      <td>FAKE</td>\n",
       "    </tr>\n",
       "  </tbody>\n",
       "</table>\n",
       "</div>"
      ],
      "text/plain": [
       "       agg_rank count label\n",
       "0000          1     2  FAKE\n",
       "000035        2     2  FAKE\n",
       "0001          3     2  FAKE\n",
       "0001pt        4     2  FAKE\n",
       "000km         5     2  FAKE"
      ]
     },
     "execution_count": 32,
     "metadata": {},
     "output_type": "execute_result"
    }
   ],
   "source": [
    "comparison_df.head()"
   ]
  },
  {
   "cell_type": "code",
   "execution_count": 33,
   "metadata": {},
   "outputs": [
    {
     "data": {
      "text/html": [
       "<div>\n",
       "<style scoped>\n",
       "    .dataframe tbody tr th:only-of-type {\n",
       "        vertical-align: middle;\n",
       "    }\n",
       "\n",
       "    .dataframe tbody tr th {\n",
       "        vertical-align: top;\n",
       "    }\n",
       "\n",
       "    .dataframe thead th {\n",
       "        text-align: right;\n",
       "    }\n",
       "</style>\n",
       "<table border=\"1\" class=\"dataframe\">\n",
       "  <thead>\n",
       "    <tr style=\"text-align: right;\">\n",
       "      <th></th>\n",
       "      <th>agg_rank</th>\n",
       "      <th>count</th>\n",
       "      <th>label</th>\n",
       "    </tr>\n",
       "  </thead>\n",
       "  <tbody>\n",
       "    <tr>\n",
       "      <th>said</th>\n",
       "      <td>9.8</td>\n",
       "      <td>5</td>\n",
       "      <td>REAL</td>\n",
       "    </tr>\n",
       "    <tr>\n",
       "      <th>cruz</th>\n",
       "      <td>4</td>\n",
       "      <td>4</td>\n",
       "      <td>REAL</td>\n",
       "    </tr>\n",
       "    <tr>\n",
       "      <th>says</th>\n",
       "      <td>7.66667</td>\n",
       "      <td>3</td>\n",
       "      <td>REAL</td>\n",
       "    </tr>\n",
       "    <tr>\n",
       "      <th>friday</th>\n",
       "      <td>2.66667</td>\n",
       "      <td>3</td>\n",
       "      <td>REAL</td>\n",
       "    </tr>\n",
       "    <tr>\n",
       "      <th>tuesday</th>\n",
       "      <td>9</td>\n",
       "      <td>3</td>\n",
       "      <td>REAL</td>\n",
       "    </tr>\n",
       "    <tr>\n",
       "      <th>conservative</th>\n",
       "      <td>4.33333</td>\n",
       "      <td>3</td>\n",
       "      <td>REAL</td>\n",
       "    </tr>\n",
       "    <tr>\n",
       "      <th>islamic</th>\n",
       "      <td>5.66667</td>\n",
       "      <td>3</td>\n",
       "      <td>REAL</td>\n",
       "    </tr>\n",
       "    <tr>\n",
       "      <th>clinton</th>\n",
       "      <td>8</td>\n",
       "      <td>2</td>\n",
       "      <td>REAL</td>\n",
       "    </tr>\n",
       "    <tr>\n",
       "      <th>gop</th>\n",
       "      <td>4.5</td>\n",
       "      <td>2</td>\n",
       "      <td>REAL</td>\n",
       "    </tr>\n",
       "    <tr>\n",
       "      <th>republican</th>\n",
       "      <td>2</td>\n",
       "      <td>2</td>\n",
       "      <td>REAL</td>\n",
       "    </tr>\n",
       "  </tbody>\n",
       "</table>\n",
       "</div>"
      ],
      "text/plain": [
       "             agg_rank count label\n",
       "said              9.8     5  REAL\n",
       "cruz                4     4  REAL\n",
       "says          7.66667     3  REAL\n",
       "friday        2.66667     3  REAL\n",
       "tuesday             9     3  REAL\n",
       "conservative  4.33333     3  REAL\n",
       "islamic       5.66667     3  REAL\n",
       "clinton             8     2  REAL\n",
       "gop               4.5     2  REAL\n",
       "republican          2     2  REAL"
      ]
     },
     "execution_count": 33,
     "metadata": {},
     "output_type": "execute_result"
    }
   ],
   "source": [
    "comparison_df[comparison_df['label'] == 'REAL'].sort_values('count', ascending=0).head(10)"
   ]
  },
  {
   "cell_type": "code",
   "execution_count": 34,
   "metadata": {},
   "outputs": [
    {
     "data": {
      "text/html": [
       "<div>\n",
       "<style scoped>\n",
       "    .dataframe tbody tr th:only-of-type {\n",
       "        vertical-align: middle;\n",
       "    }\n",
       "\n",
       "    .dataframe tbody tr th {\n",
       "        vertical-align: top;\n",
       "    }\n",
       "\n",
       "    .dataframe thead th {\n",
       "        text-align: right;\n",
       "    }\n",
       "</style>\n",
       "<table border=\"1\" class=\"dataframe\">\n",
       "  <thead>\n",
       "    <tr style=\"text-align: right;\">\n",
       "      <th></th>\n",
       "      <th>agg_rank</th>\n",
       "      <th>count</th>\n",
       "      <th>label</th>\n",
       "    </tr>\n",
       "  </thead>\n",
       "  <tbody>\n",
       "    <tr>\n",
       "      <th>advertisement</th>\n",
       "      <td>9.66667</td>\n",
       "      <td>3</td>\n",
       "      <td>FAKE</td>\n",
       "    </tr>\n",
       "    <tr>\n",
       "      <th>2016</th>\n",
       "      <td>1.33333</td>\n",
       "      <td>3</td>\n",
       "      <td>FAKE</td>\n",
       "    </tr>\n",
       "    <tr>\n",
       "      <th>share</th>\n",
       "      <td>6</td>\n",
       "      <td>3</td>\n",
       "      <td>FAKE</td>\n",
       "    </tr>\n",
       "    <tr>\n",
       "      <th>print</th>\n",
       "      <td>7.33333</td>\n",
       "      <td>3</td>\n",
       "      <td>FAKE</td>\n",
       "    </tr>\n",
       "    <tr>\n",
       "      <th>october</th>\n",
       "      <td>2.66667</td>\n",
       "      <td>3</td>\n",
       "      <td>FAKE</td>\n",
       "    </tr>\n",
       "    <tr>\n",
       "      <th>november</th>\n",
       "      <td>5.33333</td>\n",
       "      <td>3</td>\n",
       "      <td>FAKE</td>\n",
       "    </tr>\n",
       "    <tr>\n",
       "      <th>hillary</th>\n",
       "      <td>2</td>\n",
       "      <td>3</td>\n",
       "      <td>FAKE</td>\n",
       "    </tr>\n",
       "    <tr>\n",
       "      <th>article</th>\n",
       "      <td>4.33333</td>\n",
       "      <td>3</td>\n",
       "      <td>FAKE</td>\n",
       "    </tr>\n",
       "    <tr>\n",
       "      <th>election</th>\n",
       "      <td>6.5</td>\n",
       "      <td>2</td>\n",
       "      <td>FAKE</td>\n",
       "    </tr>\n",
       "    <tr>\n",
       "      <th>000035</th>\n",
       "      <td>2</td>\n",
       "      <td>2</td>\n",
       "      <td>FAKE</td>\n",
       "    </tr>\n",
       "  </tbody>\n",
       "</table>\n",
       "</div>"
      ],
      "text/plain": [
       "              agg_rank count label\n",
       "advertisement  9.66667     3  FAKE\n",
       "2016           1.33333     3  FAKE\n",
       "share                6     3  FAKE\n",
       "print          7.33333     3  FAKE\n",
       "october        2.66667     3  FAKE\n",
       "november       5.33333     3  FAKE\n",
       "hillary              2     3  FAKE\n",
       "article        4.33333     3  FAKE\n",
       "election           6.5     2  FAKE\n",
       "000035               2     2  FAKE"
      ]
     },
     "execution_count": 34,
     "metadata": {},
     "output_type": "execute_result"
    }
   ],
   "source": [
    "comparison_df[comparison_df['label'] == 'FAKE'].sort_values('count', ascending=0).head(10)"
   ]
  },
  {
   "cell_type": "code",
   "execution_count": 35,
   "metadata": {},
   "outputs": [
    {
     "name": "stdout",
     "output_type": "stream",
     "text": [
      "(20161, (-13.669855265684765, u'00000031'))\n"
     ]
    }
   ],
   "source": [
    "feature_names = count_vectorizer.get_feature_names()\n",
    "for idx, ftr_weight in enumerate(sorted(zip(mn_count_clf.coef_[0], feature_names))):\n",
    "    if ftr_weight[0] <= -16.067750538483136:\n",
    "        continue\n",
    "    print(idx, ftr_weight)\n",
    "    break"
   ]
  }
 ],
 "metadata": {
  "kernelspec": {
   "display_name": "Python 2",
   "language": "python",
   "name": "python2"
  },
  "language_info": {
   "codemirror_mode": {
    "name": "ipython",
    "version": 2
   },
   "file_extension": ".py",
   "mimetype": "text/x-python",
   "name": "python",
   "nbconvert_exporter": "python",
   "pygments_lexer": "ipython2",
   "version": "2.7.16"
  }
 },
 "nbformat": 4,
 "nbformat_minor": 2
}
